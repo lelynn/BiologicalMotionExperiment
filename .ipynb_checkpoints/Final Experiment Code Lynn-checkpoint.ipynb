{
 "cells": [
  {
   "cell_type": "markdown",
   "metadata": {},
   "source": [
    "# Lynn Le 2018"
   ]
  },
  {
   "cell_type": "markdown",
   "metadata": {},
   "source": [
    "# Experimental set-up for different frame durations"
   ]
  },
  {
   "cell_type": "markdown",
   "metadata": {},
   "source": [
    "### **Imported libraries: **"
   ]
  },
  {
   "cell_type": "markdown",
   "metadata": {},
   "source": [
    "Left to do:\n",
    "\n",
    "1. Create a table with every conditions\n"
   ]
  },
  {
   "cell_type": "code",
   "execution_count": 2,
   "metadata": {},
   "outputs": [],
   "source": [
    "import cv2\n",
    "import numpy as np\n",
    "import time\n",
    "import os\n",
    "import pandas as pd\n",
    "from sklearn.utils import shuffle\n",
    "import sys\n",
    "\n",
    "import matplotlib\n",
    "import matplotlib.pyplot as plt\n",
    "from pandas.plotting import *"
   ]
  },
  {
   "cell_type": "code",
   "execution_count": 3,
   "metadata": {},
   "outputs": [],
   "source": [
    "#'''img = np.zeros((100,100,3))\n",
    "#winname = \"img\"\n",
    "#cv2.imshow(winname, img)\n",
    "#cv2.waitKey(500)\n",
    "##time.sleep(5)\n",
    "#cv2.destroyWindow(winname)'''"
   ]
  },
  {
   "cell_type": "markdown",
   "metadata": {},
   "source": [
    "### **These are the simulation videos :**\n"
   ]
  },
  {
   "cell_type": "code",
   "execution_count": 4,
   "metadata": {},
   "outputs": [],
   "source": [
    "#These are the simulation videos that are put into a dataframe (videos_df). There are a total of 20 unique videos and will eventually be shuffled the order and multiplied 5 times. \n",
    "run_directory = '/Users/lynn/Desktop/EXPERIMENT DIRECTORY/BioMotion Phosphene Experiments'\n",
    "videos_df = pd.DataFrame(columns=['filename','fwd/bckwd', 'm/o', 'frame duration in ms'])\n",
    "experiment = '/experiment/' + 'CENdots+pgExperiment/' #LLQDotsExperiment, OriginalExperiment,LLQLines+pgExperiment\n",
    "\n",
    "video_path = run_directory + experiment + 'FinalVideos/'\n",
    "\n",
    "videos_df = pd.DataFrame(columns=['filename','fwd/bckwd', 'm/o', 'frame duration in ms'])\n",
    "    \n",
    "for v in os.listdir(video_path+'Forward/Original'):\n",
    "    if v.endswith('.mp4'):\n",
    "        videos_df =videos_df.append({'filename':'Forward/Original/'+v,'fwd/bckwd': \"Forward\", 'm/o': \"o\", 'frame duration in ms': v[7:v.find('[')]},ignore_index=True)\n",
    "\n",
    "for v in os.listdir(video_path+'Forward/Mirror'):\n",
    "    if v.endswith('.mp4'):\n",
    "        videos_df =videos_df.append({'filename':'Forward/Mirror/'+v,'fwd/bckwd': \"Forward\", 'm/o': \"m\", 'frame duration in ms': v[9:v.find('[')]},ignore_index=True)\n",
    "\n",
    "for v in os.listdir(video_path+'Reverse/Mirror'):\n",
    "    if v.endswith('.mp4'):\n",
    "        videos_df =videos_df.append({'filename':'Reverse/Mirror/'+v,'fwd/bckwd': \"Backward\", 'm/o': \"o\", 'frame duration in ms': v[9:v.find('[')]},ignore_index=True)\n",
    "\n",
    "for v in os.listdir(video_path+'Reverse/Original'):\n",
    "    if v.endswith('.mp4'):\n",
    "        videos_df =videos_df.append({'filename':'Reverse/Original/' +v ,'fwd/bckwd': \"Backward\", 'm/o': \"m\", 'frame duration in ms': v[7:v.find('[')]},ignore_index=True)\n"
   ]
  },
  {
   "cell_type": "markdown",
   "metadata": {},
   "source": [
    "### ** A function to play demo videos:**\n"
   ]
  },
  {
   "cell_type": "code",
   "execution_count": 5,
   "metadata": {},
   "outputs": [],
   "source": [
    "\n",
    "path_to_demovid = run_directory + experiment + 'Demo Videos/'\n",
    "def play_two_demovids(demovid_filename1):\n",
    "   # cv2.destroyAllWindows()\n",
    "    cap = cv2.VideoCapture(path_to_demovid + demovid_filename1 )\n",
    "    if (cap.isOpened()== False): \n",
    "        print(\"Error opening video stream or file\")\n",
    "    else:\n",
    "        framerate = cap.get(5)\n",
    "    # Read until video is completed\n",
    "    while(cap.isOpened()):\n",
    "      # Capture frame-by-frame\n",
    "        ret, frame = cap.read()\n",
    "        if ret == True: \n",
    "            make_fixationpoint(frame)\n",
    "            capname = \"cap\"\n",
    "            #allows the resizing and centering of the video window\n",
    "            cv2.namedWindow(capname, cv2.WND_PROP_FULLSCREEN)\n",
    "            cv2.setWindowProperty(capname, cv2.WND_PROP_FULLSCREEN, cv2.WINDOW_FULLSCREEN)\n",
    "            cv2.imshow(capname, frame)\n",
    "            cv2.waitKeyEx(40)\n",
    "        else: \n",
    "            break"
   ]
  },
  {
   "cell_type": "markdown",
   "metadata": {},
   "source": [
    "### ** A funtion to show images:**"
   ]
  },
  {
   "cell_type": "code",
   "execution_count": 6,
   "metadata": {},
   "outputs": [],
   "source": [
    "path_to_img =  run_directory + '/Introduction/Images/'\n",
    "def show_image(image_filename):\n",
    "    img = cv2.imread(path_to_img + image_filename)\n",
    "    line2 = make_fixationpoint(img)\n",
    "    winname = \"cap\"\n",
    "    cv2.namedWindow(winname, cv2.WND_PROP_FULLSCREEN)          \n",
    "    cv2.setWindowProperty(winname, cv2.WND_PROP_FULLSCREEN, cv2.WINDOW_FULLSCREEN)\n",
    "    cv2.imshow(winname,line2)\n",
    "\n"
   ]
  },
  {
   "cell_type": "markdown",
   "metadata": {},
   "source": [
    "#### ** A function to make fixationpoint** "
   ]
  },
  {
   "cell_type": "code",
   "execution_count": 7,
   "metadata": {},
   "outputs": [],
   "source": [
    "def make_fixationpoint(img):\n",
    "    img_height = int(img.shape[0]/2)\n",
    "    img_width = int(img.shape[1]/2)\n",
    "\n",
    "    line1 = cv2.line(img,\n",
    "    (img_width,img_height-5),\n",
    "    (img_width,img_height+5),\n",
    "    #color\n",
    "    (0, 0, 255),\n",
    "    #linethickness\n",
    "    1)\n",
    "\n",
    "    line2 = cv2.line(\n",
    "    line1,\n",
    "    (img_width-5,img_height),\n",
    "    (img_width+5,img_height),\n",
    "    #color\n",
    "    (0, 0, 255),\n",
    "    1)\n",
    "    return line2"
   ]
  },
  {
   "cell_type": "markdown",
   "metadata": {},
   "source": [
    "### ** A recursion to check keys and force key press.**"
   ]
  },
  {
   "cell_type": "code",
   "execution_count": 8,
   "metadata": {},
   "outputs": [],
   "source": [
    "\n",
    "def checks_which_key(image_filename, which_keys, wait_key_ms = 0):\n",
    "    show_image(image_filename)\n",
    "    which_key_check = cv2.waitKeyEx(wait_key_ms)\n",
    "    if which_key_check in which_keys:\n",
    "        return which_key_check\n",
    "    else:\n",
    "        show_image('try_again.png')\n",
    "        cv2.waitKey(500)\n",
    "        return checks_which_key(image_filename, which_keys)\n",
    "    "
   ]
  },
  {
   "cell_type": "markdown",
   "metadata": {},
   "source": [
    "### ** The code for displaying experimental set-up:**"
   ]
  },
  {
   "cell_type": "code",
   "execution_count": 9,
   "metadata": {},
   "outputs": [
    {
     "name": "stdout",
     "output_type": "stream",
     "text": [
      "Error opening video stream or file\n",
      "Error opening video stream or file\n"
     ]
    },
    {
     "ename": "AttributeError",
     "evalue": "'NoneType' object has no attribute 'shape'",
     "output_type": "error",
     "traceback": [
      "\u001b[0;31m---------------------------------------------------------------------------\u001b[0m",
      "\u001b[0;31mAttributeError\u001b[0m                            Traceback (most recent call last)",
      "\u001b[0;32m<ipython-input-9-9b8f30313a31>\u001b[0m in \u001b[0;36m<module>\u001b[0;34m()\u001b[0m\n\u001b[1;32m     59\u001b[0m \u001b[0mcv2\u001b[0m\u001b[0;34m.\u001b[0m\u001b[0mwaitKeyEx\u001b[0m\u001b[0;34m(\u001b[0m\u001b[0;36m0\u001b[0m\u001b[0;34m)\u001b[0m\u001b[0;34m\u001b[0m\u001b[0m\n\u001b[1;32m     60\u001b[0m \u001b[0;34m\u001b[0m\u001b[0m\n\u001b[0;32m---> 61\u001b[0;31m \u001b[0mshow_image\u001b[0m\u001b[0;34m(\u001b[0m\u001b[0;34m'Ready.png'\u001b[0m\u001b[0;34m)\u001b[0m\u001b[0;34m\u001b[0m\u001b[0m\n\u001b[0m\u001b[1;32m     62\u001b[0m \u001b[0mcv2\u001b[0m\u001b[0;34m.\u001b[0m\u001b[0mwaitKeyEx\u001b[0m\u001b[0;34m(\u001b[0m\u001b[0;36m0\u001b[0m\u001b[0;34m)\u001b[0m\u001b[0;34m\u001b[0m\u001b[0m\n\u001b[1;32m     63\u001b[0m \u001b[0;34m\u001b[0m\u001b[0m\n",
      "\u001b[0;32m<ipython-input-6-cc87b2db5859>\u001b[0m in \u001b[0;36mshow_image\u001b[0;34m(image_filename)\u001b[0m\n\u001b[1;32m      2\u001b[0m \u001b[0;32mdef\u001b[0m \u001b[0mshow_image\u001b[0m\u001b[0;34m(\u001b[0m\u001b[0mimage_filename\u001b[0m\u001b[0;34m)\u001b[0m\u001b[0;34m:\u001b[0m\u001b[0;34m\u001b[0m\u001b[0m\n\u001b[1;32m      3\u001b[0m     \u001b[0mimg\u001b[0m \u001b[0;34m=\u001b[0m \u001b[0mcv2\u001b[0m\u001b[0;34m.\u001b[0m\u001b[0mimread\u001b[0m\u001b[0;34m(\u001b[0m\u001b[0mpath_to_img\u001b[0m \u001b[0;34m+\u001b[0m \u001b[0mimage_filename\u001b[0m\u001b[0;34m)\u001b[0m\u001b[0;34m\u001b[0m\u001b[0m\n\u001b[0;32m----> 4\u001b[0;31m     \u001b[0mline2\u001b[0m \u001b[0;34m=\u001b[0m \u001b[0mmake_fixationpoint\u001b[0m\u001b[0;34m(\u001b[0m\u001b[0mimg\u001b[0m\u001b[0;34m)\u001b[0m\u001b[0;34m\u001b[0m\u001b[0m\n\u001b[0m\u001b[1;32m      5\u001b[0m     \u001b[0mwinname\u001b[0m \u001b[0;34m=\u001b[0m \u001b[0;34m\"cap\"\u001b[0m\u001b[0;34m\u001b[0m\u001b[0m\n\u001b[1;32m      6\u001b[0m     \u001b[0mcv2\u001b[0m\u001b[0;34m.\u001b[0m\u001b[0mnamedWindow\u001b[0m\u001b[0;34m(\u001b[0m\u001b[0mwinname\u001b[0m\u001b[0;34m,\u001b[0m \u001b[0mcv2\u001b[0m\u001b[0;34m.\u001b[0m\u001b[0mWND_PROP_FULLSCREEN\u001b[0m\u001b[0;34m)\u001b[0m\u001b[0;34m\u001b[0m\u001b[0m\n",
      "\u001b[0;32m<ipython-input-7-d821f5e57f12>\u001b[0m in \u001b[0;36mmake_fixationpoint\u001b[0;34m(img)\u001b[0m\n\u001b[1;32m      1\u001b[0m \u001b[0;32mdef\u001b[0m \u001b[0mmake_fixationpoint\u001b[0m\u001b[0;34m(\u001b[0m\u001b[0mimg\u001b[0m\u001b[0;34m)\u001b[0m\u001b[0;34m:\u001b[0m\u001b[0;34m\u001b[0m\u001b[0m\n\u001b[0;32m----> 2\u001b[0;31m     \u001b[0mimg_height\u001b[0m \u001b[0;34m=\u001b[0m \u001b[0mint\u001b[0m\u001b[0;34m(\u001b[0m\u001b[0mimg\u001b[0m\u001b[0;34m.\u001b[0m\u001b[0mshape\u001b[0m\u001b[0;34m[\u001b[0m\u001b[0;36m0\u001b[0m\u001b[0;34m]\u001b[0m\u001b[0;34m/\u001b[0m\u001b[0;36m2\u001b[0m\u001b[0;34m)\u001b[0m\u001b[0;34m\u001b[0m\u001b[0m\n\u001b[0m\u001b[1;32m      3\u001b[0m     \u001b[0mimg_width\u001b[0m \u001b[0;34m=\u001b[0m \u001b[0mint\u001b[0m\u001b[0;34m(\u001b[0m\u001b[0mimg\u001b[0m\u001b[0;34m.\u001b[0m\u001b[0mshape\u001b[0m\u001b[0;34m[\u001b[0m\u001b[0;36m1\u001b[0m\u001b[0;34m]\u001b[0m\u001b[0;34m/\u001b[0m\u001b[0;36m2\u001b[0m\u001b[0;34m)\u001b[0m\u001b[0;34m\u001b[0m\u001b[0m\n\u001b[1;32m      4\u001b[0m \u001b[0;34m\u001b[0m\u001b[0m\n\u001b[1;32m      5\u001b[0m     line1 = cv2.line(img,\n",
      "\u001b[0;31mAttributeError\u001b[0m: 'NoneType' object has no attribute 'shape'"
     ]
    }
   ],
   "source": [
    "#Enter subject name here:\n",
    "subjectname = 'Testing123445'\n",
    "#Configuration\n",
    "#Determining the 'forward' Key by pressing a key\n",
    "\n",
    "datapath =  run_directory + '/experiment data/'\n",
    "data_filename = datapath+subjectname+'.csv'\n",
    "\n",
    "columns_df = pd.DataFrame(columns=[\"filename\", \n",
    "                                  \"fwd/bckwd\", \n",
    "                                  \"m/o\", \n",
    "                                  \"frame duration in ms\", \n",
    "                                  \"answer\", \n",
    "                                  \"time\"])\n",
    "columns_df.to_csv(data_filename, mode='a')\n",
    "\n",
    "\n",
    "\n",
    "show_image('indicate_forward.png')\n",
    "Forwardkey = cv2.waitKeyEx(0)\n",
    "\n",
    "#Determining the 'backward' Key\n",
    "show_image('indicate_backward.png')\n",
    "Backwardkey = cv2.waitKeyEx(0)\n",
    "\n",
    "#Determining the 'continue' Key\n",
    "show_image('indicate_continue.png')\n",
    "Continuekey = cv2.waitKeyEx(0)\n",
    "\n",
    "#show what is forward\n",
    "\n",
    "show_image('Forward_before.png')\n",
    "cv2.waitKeyEx(0)\n",
    "play_two_demovids('FwdMirror60demo.mp4')\n",
    "play_two_demovids('FwdOriginal60demo.mp4') \n",
    "\n",
    "#FORWARD DEMOVID\n",
    "#check_forward_press\n",
    "\n",
    "  \n",
    "checks_which_key('Forward_after.png', [Forwardkey])\n",
    "show_image('well_done.png')\n",
    "cv2.waitKey(500)        \n",
    "#show what is backward\n",
    "\n",
    "show_image('Backward_before.png')\n",
    "cv2.waitKeyEx(0)\n",
    "\n",
    "\n",
    "play_two_demovids('RevMirror60demo.mp4')\n",
    "play_two_demovids('RevOriginal60demo.mp4')\n",
    "\n",
    "checks_which_key('Backward_after.png', [Backwardkey])\n",
    "show_image('well_done.png')\n",
    "cv2.waitKey(500)\n",
    "\n",
    "#show what is forward\n",
    "show_image('Your_task.png')\n",
    "cv2.waitKeyEx(0)    \n",
    "\n",
    "#print 'Forward = ', Forwardkey\n",
    "#print 'Backward = ', Backwardkey\n",
    "\n",
    "\n",
    "shuffled_samples = shuffle(videos_df\n",
    "                          )\n",
    "pausecounter = 50\n",
    "\n",
    "for i, sample in shuffled_samples.iterrows():\n",
    "\n",
    "    if pausecounter == 0:\n",
    "        \n",
    "        checks_which_key('continue.png', [Continuekey], 120000)\n",
    "       # while cv2.waitKeyEx(120000) != Continuekey: #break 2 minutes\n",
    "            #show_image('continue.png')\n",
    "        pausecounter = 50\n",
    "    else:\n",
    "        pausecounter -= 1\n",
    "    \n",
    "    shuffled_filename = sample['filename']\n",
    "    \n",
    "    cap = cv2.VideoCapture(video_path + shuffled_filename)\n",
    "    \n",
    "    if (cap.isOpened()== False): \n",
    "        print(\"Error opening video stream or file\")\n",
    "    else:\n",
    "        framerate = cap.get(5)\n",
    "        #vid_width = int(cap.get(3)/2)\n",
    "        #vid_height = int(cap.get(4)/2)\n",
    "\n",
    "    # Read until video is completed\n",
    "    line2 = make_fixationpoint(np.zeros((600,800,3))) \n",
    "    cv2.imshow('cap', line2)\n",
    "    cv2.waitKeyEx(500)\n",
    "    while(cap.isOpened()):\n",
    "      # Capture frame-by-frame\n",
    "        ret, frame = cap.read()       \n",
    "        \n",
    "        k = -1\n",
    "        if ret == True:\n",
    "            capname = \"cap\"\n",
    "            \n",
    "            line2 = make_fixationpoint(frame)\n",
    "    \n",
    "            #Display the resulting frame\n",
    "            cv2.namedWindow(capname, cv2.WND_PROP_FULLSCREEN)\n",
    "            cv2.setWindowProperty(capname, cv2.WND_PROP_FULLSCREEN, cv2.WINDOW_FULLSCREEN)\n",
    "            #cv2.imshow(capname, frame)\n",
    "            cv2.imshow(capname, line2)\n",
    "            \n",
    "            k = cv2.waitKeyEx(int(1000/framerate))\n",
    "            if k == Forwardkey or k == Backwardkey:\n",
    "                #k = cv2.waitKeyEx(0)\n",
    "                break\n",
    "            elif k != -1:\n",
    "                time.sleep(1/framerate)\n",
    "\n",
    "      # Break the loop\n",
    "        else: \n",
    "            break\n",
    "    \n",
    "    cap.release()\n",
    "    if k != Forwardkey and k != Backwardkey:\n",
    "        k = checks_which_key('Forward_or_backward.png', [Forwardkey, Backwardkey])\n",
    "        \n",
    "    if k == Forwardkey:\n",
    "        answer = 'Forward'\n",
    "    if k == Backwardkey:\n",
    "        answer = 'Backward'\n",
    "\n",
    "    if sample['fwd/bckwd'] == answer:\n",
    "        sample['answer'] = 1\n",
    "    else:\n",
    "        sample['answer'] = 0\n",
    "        \n",
    "    sample['time'] =  time.ctime()\n",
    "    \n",
    "    data_df = data_df.append(sample)\n",
    "    \n",
    "show_image('all_done.png')\n",
    "cv2.waitKeyEx(0)\n",
    "cv2.destroyAllWindows()\n",
    "\n",
    "datapath = 'run_directory'\n",
    "\n",
    "data_df.to_csv(datapath+  'Data ' + subjectname +'.csv', mode = 'a')"
   ]
  },
  {
   "cell_type": "markdown",
   "metadata": {},
   "source": [
    "### Plotting the data!! :)"
   ]
  },
  {
   "cell_type": "code",
   "execution_count": null,
   "metadata": {},
   "outputs": [],
   "source": [
    "import matplotlib\n",
    "import matplotlib.pyplot as plt\n",
    "from pandas.plotting import *"
   ]
  },
  {
   "cell_type": "code",
   "execution_count": null,
   "metadata": {},
   "outputs": [],
   "source": [
    "datapath = '/Users/phosphene/Documents/LynnDirectory/Biological Stimulations Frame Durations/experiment data/'\n",
    "\n",
    "#Biological Stimulations Frame Durations/experiment data/\n",
    "\n",
    "old_dataframe = pd.read_csv(datapath+'Biological Stimulations Frame DurationsData .csv')\n",
    "new_dataframe = old_dataframe[['answer','frame duration in ms']]\n",
    "new_dataframe['frame_duration'] =  new_dataframe['frame duration in ms']\n",
    "\n",
    "print new_dataframe['frame_duration']\n",
    "\n",
    "new_dataframe = new_dataframe.groupby((['frame_duration'])).mean()\n",
    "\n",
    "new_dataframe = new_dataframe.sort_index(ascending = True)\n",
    "\n",
    "new_dataframe = new_dataframe.drop(['frame duration in ms'], axis = 1)\n",
    "new_dataframe.plot(legend = False)\n",
    "plt.ylabel('fraction correct')\n",
    "plt.title('Frame Duration Experiment Results:' + subjectname)\n",
    "\n",
    "new_dataframe\n"
   ]
  },
  {
   "cell_type": "code",
   "execution_count": null,
   "metadata": {},
   "outputs": [],
   "source": [
    "# Run this part to save the plot:\n",
    "\n",
    "plt.savefig(subjectname + '.png')"
   ]
  },
  {
   "cell_type": "code",
   "execution_count": null,
   "metadata": {},
   "outputs": [],
   "source": [
    "'/Users/phosphene/Documents/LynnDirectory/Biological Stimulations Frame Durations/experiment data/Biological Stimulations Frame DurationsData.csv'"
   ]
  },
  {
   "cell_type": "code",
   "execution_count": null,
   "metadata": {},
   "outputs": [],
   "source": [
    "/Users/phosphene/Documents/LynnDirectory/Biological Stimulations Frame Durations/experiment data/Biological Stimulations Frame DurationsData .csv"
   ]
  }
 ],
 "metadata": {
  "kernelspec": {
   "display_name": "Python 2",
   "language": "python",
   "name": "python2"
  },
  "language_info": {
   "codemirror_mode": {
    "name": "ipython",
    "version": 2
   },
   "file_extension": ".py",
   "mimetype": "text/x-python",
   "name": "python",
   "nbconvert_exporter": "python",
   "pygments_lexer": "ipython2",
   "version": "2.7.14"
  }
 },
 "nbformat": 4,
 "nbformat_minor": 2
}
