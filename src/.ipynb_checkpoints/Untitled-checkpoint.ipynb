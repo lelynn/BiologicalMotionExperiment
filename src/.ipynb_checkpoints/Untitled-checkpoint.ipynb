{
 "cells": [
  {
   "cell_type": "code",
   "execution_count": 4,
   "metadata": {},
   "outputs": [],
   "source": [
    "from exp_functions import Experiment"
   ]
  },
  {
   "cell_type": "code",
   "execution_count": 3,
   "metadata": {},
   "outputs": [
    {
     "ename": "NameError",
     "evalue": "name 'videos_to_pd' is not defined",
     "output_type": "error",
     "traceback": [
      "\u001b[0;31m---------------------------------------------------------------------------\u001b[0m",
      "\u001b[0;31mNameError\u001b[0m                                 Traceback (most recent call last)",
      "\u001b[0;32m<ipython-input-3-84948dbcceb2>\u001b[0m in \u001b[0;36m<module>\u001b[0;34m()\u001b[0m\n\u001b[0;32m----> 1\u001b[0;31m \u001b[0mvideos_df\u001b[0m \u001b[0;34m=\u001b[0m \u001b[0mvideos_to_pd\u001b[0m\u001b[0;34m(\u001b[0m\u001b[0mexperiment\u001b[0m\u001b[0;34m)\u001b[0m\u001b[0;34m\u001b[0m\u001b[0m\n\u001b[0m\u001b[1;32m      2\u001b[0m \u001b[0;34m\u001b[0m\u001b[0m\n\u001b[1;32m      3\u001b[0m \u001b[0;31m#Enter subject name here:\u001b[0m\u001b[0;34m\u001b[0m\u001b[0;34m\u001b[0m\u001b[0m\n\u001b[1;32m      4\u001b[0m \u001b[0msubjectname\u001b[0m \u001b[0;34m=\u001b[0m \u001b[0;34m'Testing1'\u001b[0m\u001b[0;34m\u001b[0m\u001b[0m\n\u001b[1;32m      5\u001b[0m \u001b[0;31m#Configuration\u001b[0m\u001b[0;34m\u001b[0m\u001b[0;34m\u001b[0m\u001b[0m\n",
      "\u001b[0;31mNameError\u001b[0m: name 'videos_to_pd' is not defined"
     ]
    }
   ],
   "source": [
    "experiments = Experiment()\n",
    "videos_df = videos_to_pd(experiment)\n",
    "\n",
    "#Enter subject name here:\n",
    "subjectname = 'Testing1'\n",
    "#Configuration\n",
    "#data_to_csv()\n",
    "datapath =  run_directory + '/experiment data/'\n",
    "data_filename = datapath+subjectname+'.csv'\n",
    "\n",
    "columns_df = pd.DataFrame(columns=[\"filename\", \n",
    "                                  \"fwd/bckwd\", \n",
    "                                  \"m/o\", \n",
    "                                  \"frame duration in ms\", \n",
    "                                  \"answer\", \n",
    "                                  \"time\"])    \n",
    "columns_df.to_csv(data_filename, mode='a')\n",
    "\n",
    "#Determine the keys\n",
    "Forwardkey, Backwardkey, Continue = determine_keys()\n",
    "\n",
    "#show what is forward\n",
    "\n",
    "teaching_forward()\n",
    "    \n",
    "#show what is backward\n",
    "teaching_backward()\n",
    "\n",
    "#show the task\n",
    "show_image('Your_task.png')\n",
    "cv2.waitKeyEx(0)    \n",
    "\n",
    "run_test()\n",
    "\n",
    "run_experiment()\n",
    "datapath = 'run_directory'\n",
    "data_df.to_csv(datapath+  'Data ' + subjectname +'.csv', mode = 'a')"
   ]
  },
  {
   "cell_type": "code",
   "execution_count": null,
   "metadata": {},
   "outputs": [],
   "source": []
  }
 ],
 "metadata": {
  "kernelspec": {
   "display_name": "Python 2",
   "language": "python",
   "name": "python2"
  },
  "language_info": {
   "codemirror_mode": {
    "name": "ipython",
    "version": 2
   },
   "file_extension": ".py",
   "mimetype": "text/x-python",
   "name": "python",
   "nbconvert_exporter": "python",
   "pygments_lexer": "ipython2",
   "version": "2.7.15"
  }
 },
 "nbformat": 4,
 "nbformat_minor": 2
}
