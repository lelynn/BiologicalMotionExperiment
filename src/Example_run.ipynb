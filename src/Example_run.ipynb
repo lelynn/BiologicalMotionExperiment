{
 "cells": [
  {
   "cell_type": "code",
   "execution_count": 1,
   "metadata": {},
   "outputs": [],
   "source": [
    "from Lynn_BiMoExp_fun import Running_experiment"
   ]
  },
  {
   "cell_type": "code",
   "execution_count": 2,
   "metadata": {},
   "outputs": [],
   "source": [
    "#make new class instance:\n",
    "rne = Running_experiment()"
   ]
  },
  {
   "cell_type": "code",
   "execution_count": 3,
   "metadata": {},
   "outputs": [],
   "source": [
    "#select the experiment (see doc for which experiments available)\n",
    "rne.set_experiment('Dotfigure_LLQ')\n",
    "videos_df = rne.videos_to_pd()"
   ]
  },
  {
   "cell_type": "code",
   "execution_count": null,
   "metadata": {},
   "outputs": [],
   "source": [
    "#Determine the keys\n",
    "rne.determine_keys()\n",
    "#Show what is forward\n",
    "rne.teaching_forward()\n",
    "#Show what is backward\n",
    "rne.teaching_backward()\n",
    "#show the task\n",
    "rne.show_task()   \n",
    "#run 10 testruns\n",
    "rne.run_test()\n",
    "\n",
    "#run the actual experiment (with subject's name as parameter) and collect data\n",
    "rne.run_experiment('testing_1')\n",
    "\n",
    "#saving the data into the path\n",
    "datapath = 'run_directory'\n",
    "rne.data_df.to_csv(datapath+  'Data ' + subjectname +'.csv', mode = 'a')"
   ]
  }
 ],
 "metadata": {
  "kernelspec": {
   "display_name": "Python 2",
   "language": "python",
   "name": "python2"
  },
  "language_info": {
   "codemirror_mode": {
    "name": "ipython",
    "version": 2
   },
   "file_extension": ".py",
   "mimetype": "text/x-python",
   "name": "python",
   "nbconvert_exporter": "python",
   "pygments_lexer": "ipython2",
   "version": "2.7.15"
  }
 },
 "nbformat": 4,
 "nbformat_minor": 2
}
